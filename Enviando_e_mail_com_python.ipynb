{
  "nbformat": 4,
  "nbformat_minor": 0,
  "metadata": {
    "colab": {
      "provenance": [],
      "authorship_tag": "ABX9TyMp+2WXHxK/MQ17RMoJ0Q4S",
      "include_colab_link": true
    },
    "kernelspec": {
      "name": "python3",
      "display_name": "Python 3"
    },
    "language_info": {
      "name": "python"
    }
  },
  "cells": [
    {
      "cell_type": "markdown",
      "metadata": {
        "id": "view-in-github",
        "colab_type": "text"
      },
      "source": [
        "<a href=\"https://colab.research.google.com/github/Fransualdo-Lopes/Arquivos-de-codigo/blob/main/Enviando_e_mail_com_python.ipynb\" target=\"_parent\"><img src=\"https://colab.research.google.com/assets/colab-badge.svg\" alt=\"Open In Colab\"/></a>"
      ]
    },
    {
      "cell_type": "markdown",
      "source": [
        "# **Enviando_e-mail_com_Python**\n",
        "\n",
        "*OBS: Você precisa gerar sua senha de APP. veja a referência do youtube comentada na linha 11.*\n",
        "\n",
        "#**Código padrão. "
      ],
      "metadata": {
        "id": "5rdccmY9e8DH"
      }
    },
    {
      "cell_type": "code",
      "execution_count": null,
      "metadata": {
        "id": "Q-5EvkSpe6d3"
      },
      "outputs": [],
      "source": [
        "import json\n",
        "from email.mime.multipart import MIMEMultipart\n",
        "from email.mime.text import MIMEText\n",
        "import smtplib\n",
        "\n",
        "#Corpo da mensagem do email#\n",
        "msg = MIMEMultipart()\n",
        "message = \"Olá esta é uma mensagem teste de envio de email :)\"\n",
        "\n",
        "#Credenciais e assuintos do gmail#\n",
        "password = \"*** SENHA DO EMAIL QUE IRÁ ENVIAR***\"  #gerar senha de app na conta google - referencia: https://www.youtube.com/watch?v=gXYpl-9zpqs#\n",
        "msg['From'] = \"*** EMAIL QUE VAI ENVIAR***\"\n",
        "msg['To'] = \"*** EMAIL QUE VAI RECEBER***\"\n",
        "msg['Subject'] = \"*** Enviando gmail com Python***\" #Assunto do email\n",
        "\n",
        "#Monta conexão e envia o email#\n",
        "msg.attach(MIMEText(message, 'plain'))\n",
        "server =  smtplib.SMTP('smtp.gmail.com', port=587)\n",
        "server.starttls()\n",
        "server.login(msg['From'], password)\n",
        "server.sendmail(msg['From'], msg['To'], msg.as_string())\n",
        "server.quit()"
      ]
    }
  ]
}